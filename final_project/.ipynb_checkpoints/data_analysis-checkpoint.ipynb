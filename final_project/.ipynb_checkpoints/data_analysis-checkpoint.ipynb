{
 "cells": [
  {
   "cell_type": "markdown",
   "metadata": {},
   "source": [
    "## Clean the combined dataset, and push new column(category, new time, and date) into dataframe"
   ]
  },
  {
   "cell_type": "code",
   "execution_count": 80,
   "metadata": {},
   "outputs": [],
   "source": [
    "import pandas as pd\n",
    "\n",
    "twitch_API_data = pd.read_json(\"data/all_combined.json\")"
   ]
  },
  {
   "cell_type": "code",
   "execution_count": 81,
   "metadata": {},
   "outputs": [],
   "source": [
    "twitch_API_data = twitch_API_data.drop(columns=['id', 'user_id','user_login','thumbnail_url','tag_ids','type'])"
   ]
  },
  {
   "cell_type": "code",
   "execution_count": 82,
   "metadata": {},
   "outputs": [
    {
     "data": {
      "text/plain": [
       "array(['es', 'pt', 'ru', 'en', 'de', 'it', 'tr', 'fr', 'pl', 'ja', 'th',\n",
       "       'ko', 'zh', 'ar'], dtype=object)"
      ]
     },
     "execution_count": 82,
     "metadata": {},
     "output_type": "execute_result"
    }
   ],
   "source": [
    "twitch_API_data[\"language\"].unique()\n",
    "# twitch_API_data[twitch_API_data[\"language\"]=='zh']"
   ]
  },
  {
   "cell_type": "code",
   "execution_count": 83,
   "metadata": {},
   "outputs": [
    {
     "data": {
      "text/plain": [
       "False"
      ]
     },
     "execution_count": 83,
     "metadata": {},
     "output_type": "execute_result"
    }
   ],
   "source": [
    "twitch_API_data.isnull().values.any()"
   ]
  },
  {
   "cell_type": "code",
   "execution_count": 84,
   "metadata": {},
   "outputs": [
    {
     "data": {
      "text/plain": [
       "array(['League of Legends', 'FIFA 22', 'Dota 2', 'VALORANT', 'Slots',\n",
       "       'Apex Legends', 'Grand Theft Auto V', 'Rust', 'Just Chatting',\n",
       "       'Fortnite', 'Jump King', 'Elden Ring', 'Food & Drink',\n",
       "       'Super Mario Odyssey', 'Street Fighter V', 'Escape from Tarkov',\n",
       "       'Lost Ark', 'Call of Duty: Warzone', 'PUBG: BATTLEGROUNDS',\n",
       "       'Sea of Thieves', 'Super Smash Bros. Ultimate', 'Green Hell',\n",
       "       'Counter-Strike: Global Offensive', 'Virtual Casino', 'SMITE',\n",
       "       'Trackmania', 'World of Warcraft', 'Minecraft', 'Among Us',\n",
       "       'Sporcle', 'Brawlhalla', 'Dead by Daylight', 'Vampire Survivors',\n",
       "       'DayZ', '旅行＆アウトドア', 'Special Events', 'Tale of Immortal',\n",
       "       'Hearthstone', 'Teamfight Tactics', 'Gartic Phone',\n",
       "       'Talk Shows & Podcasts', 'Solasta: Crown of the Magister',\n",
       "       'Diablo III', \"No Man's Sky\", 'Pools, Hot Tubs, and Beaches',\n",
       "       'Bloons TD 6', 'Furi', 'Hot Wheels Unleashed', 'Watch Parties',\n",
       "       \"Five Nights at Freddy's: Security Breach\",\n",
       "       'Dungeon Fighter Online', 'Tabletop Simulator', 'Politics',\n",
       "       'Crimesight', 'World of Tanks', \"Demon's Souls\",\n",
       "       \"Tom Clancy's Rainbow Six Siege\",\n",
       "       'Atelier Ryza: Ever Darkness & the Secret Hideout',\n",
       "       'StarCraft: Remastered', 'Doki Doki Literature Club!',\n",
       "       'Rocket League', 'Jackbox Party Packs', 'Detroit: Become Human',\n",
       "       '', 'Retro', 'Halo Infinite', 'Ark: Survival Evolved',\n",
       "       'LEGO Star Wars: The Skywalker Saga', 'Music', 'The Long Drive',\n",
       "       'Heroes of Might and Magic III: The Restoration of Erathia',\n",
       "       'Shakes and Fidget', 'Quern - Undying Thoughts', 'Dread Hunger',\n",
       "       'Tropico 6', 'Sports', 'The Sims 4', 'Cities: Skylines',\n",
       "       'Factorio', 'For The King', 'The Last of Us', 'Chess',\n",
       "       'Yu-Gi-Oh! Master Duel', 'Castlevania: Bloodlines',\n",
       "       'Call of Duty: Vanguard', 'Back 4 Blood', 'Pummel Party',\n",
       "       'Euro Truck Simulator 2', 'Mario Kart 8 Deluxe',\n",
       "       'Abriss: build to destroy', 'Wordle', 'Rivals of Aether',\n",
       "       'Deep Rock Galactic', 'StarCraft II', 'Backpack Hero',\n",
       "       'My Summer Car', \"I'm Only Sleeping\", 'Age of Empires IV',\n",
       "       'Anno 1800', 'GeoGuessr', 'Squad', 'iRacing',\n",
       "       \"Sid Meier's Civilization VI\", 'Forgive Me Father', 'Clash Royale',\n",
       "       'Maitre des Fleurs', 'Slay the Spire', 'Deadness', 'Stronghold 2',\n",
       "       'Perfect Heist 2', \"Who's Lila?\", 'Travel & Outdoors',\n",
       "       'Animal Revolt Battle Simulator', 'MapleStory', 'Planet Coaster',\n",
       "       'Shieldwall', 'Pro Soccer Online', 'F1 2021',\n",
       "       'Mario + Rabbids Kingdom Battle'], dtype=object)"
      ]
     },
     "execution_count": 84,
     "metadata": {},
     "output_type": "execute_result"
    }
   ],
   "source": [
    "# twitch_API_data[twitch_API_data[\"game_name\"]=='']\n",
    "twitch_API_data[\"game_name\"].unique()"
   ]
  },
  {
   "cell_type": "code",
   "execution_count": 85,
   "metadata": {},
   "outputs": [],
   "source": [
    "game = {'League of Legends','FIFA 22','Dota 2', 'VALORANT','Apex Legends', 'Grand Theft Auto V', 'Rust','Fortnite', 'Jump King', 'Elden Ring','Super Mario Odyssey', 'Street Fighter V', 'Escape from Tarkov','Lost Ark', 'Call of Duty: Warzone', 'PUBG: BATTLEGROUNDS',\n",
    "       'Sea of Thieves', 'Super Smash Bros. Ultimate','Green Hell','Counter-Strike: Global Offensive', 'SMITE','Trackmania', 'World of Warcraft', 'Minecraft', 'Among Us',\n",
    "       'Sporcle', 'Brawlhalla', 'Dead by Daylight', 'Vampire Survivors','Tale of Immortal','Hearthstone', 'Teamfight Tactics', 'Gartic Phone','DayZ','Solasta: Crown of the Magister',\n",
    "       'Diablo III', \"No Man's Sky\",'Bloons TD 6', 'Furi', 'Hot Wheels Unleashed',\"Five Nights at Freddy's: Security Breach\",'Crimesight', 'World of Tanks', \"Demon's Souls\",\n",
    "       \"Tom Clancy's Rainbow Six Siege\",\n",
    "       'Atelier Ryza: Ever Darkness & the Secret Hideout',\n",
    "       'StarCraft: Remastered', 'Doki Doki Literature Club!',\n",
    "       'Rocket League', 'Jackbox Party Packs', 'Detroit: Become Human',\n",
    "       'Dungeon Fighter Online', 'Tabletop Simulator','Retro', 'Halo Infinite', 'Ark: Survival Evolved',\n",
    "       'LEGO Star Wars: The Skywalker Saga','The Long Drive',\n",
    "       'Heroes of Might and Magic III: The Restoration of Erathia',\n",
    "       'Shakes and Fidget', 'Quern - Undying Thoughts', 'Dread Hunger',\n",
    "       'Tropico 6','The Sims 4', 'Cities: Skylines',\n",
    "       'Factorio', 'For The King', 'The Last of Us','Yu-Gi-Oh! Master Duel', 'Castlevania: Bloodlines',\n",
    "       'Call of Duty: Vanguard', 'Back 4 Blood', 'Pummel Party',\n",
    "       'Euro Truck Simulator 2', 'Mario Kart 8 Deluxe',\n",
    "       'Abriss: build to destroy','Rivals of Aether',\n",
    "       'Deep Rock Galactic', 'StarCraft II','Backpack Hero',\n",
    "       'My Summer Car', \"I'm Only Sleeping\", 'Age of Empires IV',\n",
    "       'Anno 1800','Squad', 'iRacing',\n",
    "       \"Sid Meier's Civilization VI\", 'Forgive Me Father', 'Clash Royale',\n",
    "       'Maitre des Fleurs', 'Slay the Spire', 'Deadness', 'Stronghold 2',\n",
    "       'Perfect Heist 2', \"Who's Lila?\",'Animal Revolt Battle Simulator', 'MapleStory', 'Planet Coaster',\n",
    "       'Shieldwall', 'Pro Soccer Online', 'F1 2021',\n",
    "       'Mario + Rabbids Kingdom Battle'}\n",
    "entertainment = {'Slots','Just Chatting','Food & Drink', 'Virtual Casino','旅行＆アウトドア','Talk Shows & Podcasts','Pools, Hot Tubs, and Beaches','Politics','Music','Sports','Chess','Wordle','GeoGuessr','Travel & Outdoors'}\n",
    "other = {'Special Events','Watch Parties',''}"
   ]
  },
  {
   "cell_type": "code",
   "execution_count": 86,
   "metadata": {},
   "outputs": [],
   "source": [
    "for idx, row in twitch_API_data.iterrows():\n",
    "    if  twitch_API_data.loc[idx,'game_name'] in game :\n",
    "        twitch_API_data.loc[idx,'category'] = 'Game'\n",
    "    elif twitch_API_data.loc[idx,'game_name'] in entertainment:\n",
    "        twitch_API_data.loc[idx,'category'] = 'Entertainment'\n",
    "    elif twitch_API_data.loc[idx,'game_name'] in other:\n",
    "        twitch_API_data.loc[idx,'category'] = 'Other'"
   ]
  },
  {
   "cell_type": "code",
   "execution_count": 87,
   "metadata": {},
   "outputs": [
    {
     "data": {
      "text/plain": [
       "array(['Game', 'Entertainment', 'Other'], dtype=object)"
      ]
     },
     "execution_count": 87,
     "metadata": {},
     "output_type": "execute_result"
    }
   ],
   "source": [
    "twitch_API_data['category'].unique()\n",
    "# twitch_API_data[twitch_API_data['category'].isna()]"
   ]
  },
  {
   "cell_type": "code",
   "execution_count": 88,
   "metadata": {},
   "outputs": [
    {
     "data": {
      "text/html": [
       "<div>\n",
       "<style scoped>\n",
       "    .dataframe tbody tr th:only-of-type {\n",
       "        vertical-align: middle;\n",
       "    }\n",
       "\n",
       "    .dataframe tbody tr th {\n",
       "        vertical-align: top;\n",
       "    }\n",
       "\n",
       "    .dataframe thead th {\n",
       "        text-align: right;\n",
       "    }\n",
       "</style>\n",
       "<table border=\"1\" class=\"dataframe\">\n",
       "  <thead>\n",
       "    <tr style=\"text-align: right;\">\n",
       "      <th></th>\n",
       "      <th>user_name</th>\n",
       "      <th>game_id</th>\n",
       "      <th>game_name</th>\n",
       "      <th>title</th>\n",
       "      <th>viewer_count</th>\n",
       "      <th>started_at</th>\n",
       "      <th>language</th>\n",
       "      <th>is_mature</th>\n",
       "      <th>category</th>\n",
       "    </tr>\n",
       "  </thead>\n",
       "  <tbody>\n",
       "    <tr>\n",
       "      <th>0</th>\n",
       "      <td>Nissaxter</td>\n",
       "      <td>21779</td>\n",
       "      <td>League of Legends</td>\n",
       "      <td>🔴FUMIGANDO LA GRIETA DEL INVOCADOR DE YUMMY PL...</td>\n",
       "      <td>5310</td>\n",
       "      <td>2022-04-15 21:29:17+00:00</td>\n",
       "      <td>es</td>\n",
       "      <td>True</td>\n",
       "      <td>Game</td>\n",
       "    </tr>\n",
       "  </tbody>\n",
       "</table>\n",
       "</div>"
      ],
      "text/plain": [
       "   user_name game_id          game_name  \\\n",
       "0  Nissaxter   21779  League of Legends   \n",
       "\n",
       "                                               title  viewer_count  \\\n",
       "0  🔴FUMIGANDO LA GRIETA DEL INVOCADOR DE YUMMY PL...          5310   \n",
       "\n",
       "                 started_at language  is_mature category  \n",
       "0 2022-04-15 21:29:17+00:00       es       True     Game  "
      ]
     },
     "execution_count": 88,
     "metadata": {},
     "output_type": "execute_result"
    }
   ],
   "source": [
    "twitch_API_data.iloc[[0]]"
   ]
  },
  {
   "cell_type": "code",
   "execution_count": 89,
   "metadata": {},
   "outputs": [],
   "source": [
    "twitch_API_data['started_at'] = twitch_API_data['started_at'].dt.tz_convert('US/Central')"
   ]
  },
  {
   "cell_type": "code",
   "execution_count": 90,
   "metadata": {},
   "outputs": [
    {
     "data": {
      "text/html": [
       "<div>\n",
       "<style scoped>\n",
       "    .dataframe tbody tr th:only-of-type {\n",
       "        vertical-align: middle;\n",
       "    }\n",
       "\n",
       "    .dataframe tbody tr th {\n",
       "        vertical-align: top;\n",
       "    }\n",
       "\n",
       "    .dataframe thead th {\n",
       "        text-align: right;\n",
       "    }\n",
       "</style>\n",
       "<table border=\"1\" class=\"dataframe\">\n",
       "  <thead>\n",
       "    <tr style=\"text-align: right;\">\n",
       "      <th></th>\n",
       "      <th>user_name</th>\n",
       "      <th>game_id</th>\n",
       "      <th>game_name</th>\n",
       "      <th>title</th>\n",
       "      <th>viewer_count</th>\n",
       "      <th>started_at</th>\n",
       "      <th>language</th>\n",
       "      <th>is_mature</th>\n",
       "      <th>category</th>\n",
       "    </tr>\n",
       "  </thead>\n",
       "  <tbody>\n",
       "    <tr>\n",
       "      <th>0</th>\n",
       "      <td>Nissaxter</td>\n",
       "      <td>21779</td>\n",
       "      <td>League of Legends</td>\n",
       "      <td>🔴FUMIGANDO LA GRIETA DEL INVOCADOR DE YUMMY PL...</td>\n",
       "      <td>5310</td>\n",
       "      <td>2022-04-15 16:29:17-05:00</td>\n",
       "      <td>es</td>\n",
       "      <td>True</td>\n",
       "      <td>Game</td>\n",
       "    </tr>\n",
       "  </tbody>\n",
       "</table>\n",
       "</div>"
      ],
      "text/plain": [
       "   user_name game_id          game_name  \\\n",
       "0  Nissaxter   21779  League of Legends   \n",
       "\n",
       "                                               title  viewer_count  \\\n",
       "0  🔴FUMIGANDO LA GRIETA DEL INVOCADOR DE YUMMY PL...          5310   \n",
       "\n",
       "                 started_at language  is_mature category  \n",
       "0 2022-04-15 16:29:17-05:00       es       True     Game  "
      ]
     },
     "execution_count": 90,
     "metadata": {},
     "output_type": "execute_result"
    }
   ],
   "source": [
    "twitch_API_data.iloc[[0]]"
   ]
  },
  {
   "cell_type": "code",
   "execution_count": 94,
   "metadata": {},
   "outputs": [],
   "source": [
    "for idx, row in twitch_API_data.iterrows():\n",
    "    timestamp = str(twitch_API_data.loc[idx,'started_at'])\n",
    "    date, time = timestamp.split()\n",
    "    time = time[0:8]\n",
    "    twitch_API_data.loc[idx,'date'] = date\n",
    "    twitch_API_data.loc[idx,'time'] = time"
   ]
  },
  {
   "cell_type": "code",
   "execution_count": 96,
   "metadata": {},
   "outputs": [
    {
     "data": {
      "text/html": [
       "<div>\n",
       "<style scoped>\n",
       "    .dataframe tbody tr th:only-of-type {\n",
       "        vertical-align: middle;\n",
       "    }\n",
       "\n",
       "    .dataframe tbody tr th {\n",
       "        vertical-align: top;\n",
       "    }\n",
       "\n",
       "    .dataframe thead th {\n",
       "        text-align: right;\n",
       "    }\n",
       "</style>\n",
       "<table border=\"1\" class=\"dataframe\">\n",
       "  <thead>\n",
       "    <tr style=\"text-align: right;\">\n",
       "      <th></th>\n",
       "      <th>user_name</th>\n",
       "      <th>game_id</th>\n",
       "      <th>game_name</th>\n",
       "      <th>title</th>\n",
       "      <th>viewer_count</th>\n",
       "      <th>started_at</th>\n",
       "      <th>language</th>\n",
       "      <th>is_mature</th>\n",
       "      <th>category</th>\n",
       "      <th>date</th>\n",
       "      <th>time</th>\n",
       "    </tr>\n",
       "  </thead>\n",
       "  <tbody>\n",
       "    <tr>\n",
       "      <th>0</th>\n",
       "      <td>Nissaxter</td>\n",
       "      <td>21779</td>\n",
       "      <td>League of Legends</td>\n",
       "      <td>🔴FUMIGANDO LA GRIETA DEL INVOCADOR DE YUMMY PL...</td>\n",
       "      <td>5310</td>\n",
       "      <td>2022-04-15 16:29:17-05:00</td>\n",
       "      <td>es</td>\n",
       "      <td>True</td>\n",
       "      <td>Game</td>\n",
       "      <td>2022-04-15</td>\n",
       "      <td>16:29:17</td>\n",
       "    </tr>\n",
       "    <tr>\n",
       "      <th>1</th>\n",
       "      <td>adolfz</td>\n",
       "      <td>1869092879</td>\n",
       "      <td>FIFA 22</td>\n",
       "      <td>Banqueta vs Brit1909 -2 rodada liga dos Stream...</td>\n",
       "      <td>5448</td>\n",
       "      <td>2022-04-15 12:44:51-05:00</td>\n",
       "      <td>pt</td>\n",
       "      <td>True</td>\n",
       "      <td>Game</td>\n",
       "      <td>2022-04-15</td>\n",
       "      <td>12:44:51</td>\n",
       "    </tr>\n",
       "    <tr>\n",
       "      <th>2</th>\n",
       "      <td>ybicanoooobov</td>\n",
       "      <td>29595</td>\n",
       "      <td>Dota 2</td>\n",
       "      <td>Пятничные зарубы с Федерико, заходи братишка!</td>\n",
       "      <td>5505</td>\n",
       "      <td>2022-04-15 13:31:30-05:00</td>\n",
       "      <td>ru</td>\n",
       "      <td>False</td>\n",
       "      <td>Game</td>\n",
       "      <td>2022-04-15</td>\n",
       "      <td>13:31:30</td>\n",
       "    </tr>\n",
       "    <tr>\n",
       "      <th>3</th>\n",
       "      <td>Nadeshot</td>\n",
       "      <td>516575</td>\n",
       "      <td>VALORANT</td>\n",
       "      <td>Ranked Valorant</td>\n",
       "      <td>5506</td>\n",
       "      <td>2022-04-15 11:19:22-05:00</td>\n",
       "      <td>en</td>\n",
       "      <td>True</td>\n",
       "      <td>Game</td>\n",
       "      <td>2022-04-15</td>\n",
       "      <td>11:19:22</td>\n",
       "    </tr>\n",
       "    <tr>\n",
       "      <th>4</th>\n",
       "      <td>stevewillsendit</td>\n",
       "      <td>498566</td>\n",
       "      <td>Slots</td>\n",
       "      <td>80k RAW BALANCE STEVEWILLDOIT !discord</td>\n",
       "      <td>5620</td>\n",
       "      <td>2022-04-15 16:31:44-05:00</td>\n",
       "      <td>en</td>\n",
       "      <td>True</td>\n",
       "      <td>Entertainment</td>\n",
       "      <td>2022-04-15</td>\n",
       "      <td>16:31:44</td>\n",
       "    </tr>\n",
       "  </tbody>\n",
       "</table>\n",
       "</div>"
      ],
      "text/plain": [
       "         user_name     game_id          game_name  \\\n",
       "0        Nissaxter       21779  League of Legends   \n",
       "1           adolfz  1869092879            FIFA 22   \n",
       "2    ybicanoooobov       29595             Dota 2   \n",
       "3         Nadeshot      516575           VALORANT   \n",
       "4  stevewillsendit      498566              Slots   \n",
       "\n",
       "                                               title  viewer_count  \\\n",
       "0  🔴FUMIGANDO LA GRIETA DEL INVOCADOR DE YUMMY PL...          5310   \n",
       "1  Banqueta vs Brit1909 -2 rodada liga dos Stream...          5448   \n",
       "2      Пятничные зарубы с Федерико, заходи братишка!          5505   \n",
       "3                                    Ranked Valorant          5506   \n",
       "4             80k RAW BALANCE STEVEWILLDOIT !discord          5620   \n",
       "\n",
       "                 started_at language  is_mature       category        date  \\\n",
       "0 2022-04-15 16:29:17-05:00       es       True           Game  2022-04-15   \n",
       "1 2022-04-15 12:44:51-05:00       pt       True           Game  2022-04-15   \n",
       "2 2022-04-15 13:31:30-05:00       ru      False           Game  2022-04-15   \n",
       "3 2022-04-15 11:19:22-05:00       en       True           Game  2022-04-15   \n",
       "4 2022-04-15 16:31:44-05:00       en       True  Entertainment  2022-04-15   \n",
       "\n",
       "       time  \n",
       "0  16:29:17  \n",
       "1  12:44:51  \n",
       "2  13:31:30  \n",
       "3  11:19:22  \n",
       "4  16:31:44  "
      ]
     },
     "execution_count": 96,
     "metadata": {},
     "output_type": "execute_result"
    }
   ],
   "source": [
    "twitch_API_data.head()"
   ]
  },
  {
   "cell_type": "markdown",
   "metadata": {},
   "source": [
    "## Explore basic demographic of the dataset"
   ]
  },
  {
   "cell_type": "code",
   "execution_count": 97,
   "metadata": {},
   "outputs": [],
   "source": [
    "import matplotlib.pyplot as plt"
   ]
  },
  {
   "cell_type": "code",
   "execution_count": null,
   "metadata": {},
   "outputs": [],
   "source": []
  }
 ],
 "metadata": {
  "interpreter": {
   "hash": "73f5c197125b44145db2a0ffc4a9623e1af66f0f8e0a607dfed48c4938b83929"
  },
  "kernelspec": {
   "display_name": "is310-venv",
   "language": "python",
   "name": "is310-venv"
  },
  "language_info": {
   "codemirror_mode": {
    "name": "ipython",
    "version": 3
   },
   "file_extension": ".py",
   "mimetype": "text/x-python",
   "name": "python",
   "nbconvert_exporter": "python",
   "pygments_lexer": "ipython3",
   "version": "3.7.4"
  }
 },
 "nbformat": 4,
 "nbformat_minor": 2
}
