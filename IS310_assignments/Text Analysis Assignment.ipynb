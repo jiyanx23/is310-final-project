{
 "cells": [
  {
   "cell_type": "code",
   "execution_count": 2,
   "id": "c3fe2eeb",
   "metadata": {},
   "outputs": [],
   "source": [
    "import pandas as pd"
   ]
  },
  {
   "cell_type": "code",
   "execution_count": 3,
   "id": "f6df13c7",
   "metadata": {},
   "outputs": [],
   "source": [
    "humanist_vols = pd.read_csv('web_scraped_humanist_listserv.csv')"
   ]
  },
  {
   "cell_type": "code",
   "execution_count": 4,
   "id": "50580554",
   "metadata": {},
   "outputs": [],
   "source": [
    "humanist_vols['cleaned_dates'] = humanist_vols['dates'].str.replace('-', '/')\n",
    "humanist_vols['cleaned_dates'].str.split('/')\n",
    "humanist_vols['year_start'] = humanist_vols['cleaned_dates'].str.split('/').str[0]\n",
    "humanist_vols['year_end'] = humanist_vols['cleaned_dates'].str.split('/').str[1]"
   ]
  },
  {
   "cell_type": "code",
   "execution_count": 5,
   "id": "a683c258",
   "metadata": {},
   "outputs": [],
   "source": [
    "from nltk.stem import PorterStemmer\n",
    "porter = PorterStemmer()\n",
    "pd.options.mode.chained_assignment = None  # default='warn'\n",
    "def stem_words(row):\n",
    "    stemmed_words = ''\n",
    "    for token in row.split(' '):\n",
    "        stemmed_words += porter.stem(token) + ' '\n",
    "    return stemmed_words"
   ]
  },
  {
   "cell_type": "code",
   "execution_count": 6,
   "id": "0f8a70c1",
   "metadata": {},
   "outputs": [],
   "source": [
    "humanist_vols_copy = humanist_vols.copy()\n",
    "humanist_vols_copy['stemmed_text'] = humanist_vols_copy.text.apply(stem_words)"
   ]
  },
  {
   "cell_type": "code",
   "execution_count": 7,
   "id": "5d23f8bf",
   "metadata": {},
   "outputs": [
    {
     "data": {
      "text/html": [
       "<div>\n",
       "<style scoped>\n",
       "    .dataframe tbody tr th:only-of-type {\n",
       "        vertical-align: middle;\n",
       "    }\n",
       "\n",
       "    .dataframe tbody tr th {\n",
       "        vertical-align: top;\n",
       "    }\n",
       "\n",
       "    .dataframe thead th {\n",
       "        text-align: right;\n",
       "    }\n",
       "</style>\n",
       "<table border=\"1\" class=\"dataframe\">\n",
       "  <thead>\n",
       "    <tr style=\"text-align: right;\">\n",
       "      <th></th>\n",
       "      <th>dates</th>\n",
       "      <th>text</th>\n",
       "      <th>url</th>\n",
       "      <th>cleaned_dates</th>\n",
       "      <th>year_start</th>\n",
       "      <th>year_end</th>\n",
       "      <th>stemmed_text</th>\n",
       "    </tr>\n",
       "  </thead>\n",
       "  <tbody>\n",
       "    <tr>\n",
       "      <th>0</th>\n",
       "      <td>1987-1988</td>\n",
       "      <td>From: MCCARTY@UTOREPAS\\nSubject: \\nDate: 12 Ma...</td>\n",
       "      <td>https://humanist.kdl.kcl.ac.uk/Archives/Conver...</td>\n",
       "      <td>1987/1988</td>\n",
       "      <td>1987</td>\n",
       "      <td>1988</td>\n",
       "      <td>from: mccarty@utorepas\\nsubject: \\ndate: 12 ma...</td>\n",
       "    </tr>\n",
       "    <tr>\n",
       "      <th>1</th>\n",
       "      <td>1988-1989</td>\n",
       "      <td>From: Sebastian Rahtz \\nSubject: C++ and Gnu o...</td>\n",
       "      <td>https://humanist.kdl.kcl.ac.uk/Archives/Conver...</td>\n",
       "      <td>1988/1989</td>\n",
       "      <td>1988</td>\n",
       "      <td>1989</td>\n",
       "      <td>from: sebastian rahtz \\nsubject: c++ and gnu o...</td>\n",
       "    </tr>\n",
       "    <tr>\n",
       "      <th>2</th>\n",
       "      <td>1989-1990</td>\n",
       "      <td>From: Willard McCarty \\nSubject: Happy Birthda...</td>\n",
       "      <td>https://humanist.kdl.kcl.ac.uk/Archives/Conver...</td>\n",
       "      <td>1989/1990</td>\n",
       "      <td>1989</td>\n",
       "      <td>1990</td>\n",
       "      <td>from: willard mccarti \\nsubject: happi birthda...</td>\n",
       "    </tr>\n",
       "    <tr>\n",
       "      <th>3</th>\n",
       "      <td>1990-1991</td>\n",
       "      <td>From: Elaine Brennan &amp; Allen Renear \\nSubject:...</td>\n",
       "      <td>https://humanist.kdl.kcl.ac.uk/Archives/Conver...</td>\n",
       "      <td>1990/1991</td>\n",
       "      <td>1990</td>\n",
       "      <td>1991</td>\n",
       "      <td>from: elain brennan &amp; allen renear \\nsubject: ...</td>\n",
       "    </tr>\n",
       "    <tr>\n",
       "      <th>4</th>\n",
       "      <td>1991-1992</td>\n",
       "      <td>From: Elaine Brennan &amp; Allen Renear \\nSubject:...</td>\n",
       "      <td>https://humanist.kdl.kcl.ac.uk/Archives/Conver...</td>\n",
       "      <td>1991/1992</td>\n",
       "      <td>1991</td>\n",
       "      <td>1992</td>\n",
       "      <td>from: elain brennan &amp; allen renear \\nsubject: ...</td>\n",
       "    </tr>\n",
       "    <tr>\n",
       "      <th>5</th>\n",
       "      <td>1992-1993</td>\n",
       "      <td>From: Elaine M Brennan \\nSubject: Humanist's B...</td>\n",
       "      <td>https://humanist.kdl.kcl.ac.uk/Archives/Conver...</td>\n",
       "      <td>1992/1993</td>\n",
       "      <td>1992</td>\n",
       "      <td>1993</td>\n",
       "      <td>from: elain m brennan \\nsubject: humanist' bir...</td>\n",
       "    </tr>\n",
       "    <tr>\n",
       "      <th>6</th>\n",
       "      <td>1993-1994</td>\n",
       "      <td>From: 6500card%ucsbuxa@hub.ucsb.edu (Cheryl A....</td>\n",
       "      <td>https://humanist.kdl.kcl.ac.uk/Archives/Conver...</td>\n",
       "      <td>1993/1994</td>\n",
       "      <td>1993</td>\n",
       "      <td>1994</td>\n",
       "      <td>from: 6500card%ucsbuxa@hub.ucsb.edu (cheryl a....</td>\n",
       "    </tr>\n",
       "    <tr>\n",
       "      <th>7</th>\n",
       "      <td>1994-1995</td>\n",
       "      <td>From: Andrew Burday \\nSubject: Re: 7.0638 Qs: ...</td>\n",
       "      <td>https://humanist.kdl.kcl.ac.uk/Archives/Conver...</td>\n",
       "      <td>1994/1995</td>\n",
       "      <td>1994</td>\n",
       "      <td>1995</td>\n",
       "      <td>from: andrew burday \\nsubject: re: 7.0638 qs: ...</td>\n",
       "    </tr>\n",
       "    <tr>\n",
       "      <th>8</th>\n",
       "      <td>1995-1996</td>\n",
       "      <td>From: \"Gregory Bloomquist\" \\nSubject: Round Ta...</td>\n",
       "      <td>https://humanist.kdl.kcl.ac.uk/Archives/Conver...</td>\n",
       "      <td>1995/1996</td>\n",
       "      <td>1995</td>\n",
       "      <td>1996</td>\n",
       "      <td>from: \"gregori bloomquist\" \\nsubject: round ta...</td>\n",
       "    </tr>\n",
       "    <tr>\n",
       "      <th>9</th>\n",
       "      <td>1996-1997</td>\n",
       "      <td>From: Humanist \\nSubject: Humanist begins its ...</td>\n",
       "      <td>https://humanist.kdl.kcl.ac.uk/Archives/Conver...</td>\n",
       "      <td>1996/1997</td>\n",
       "      <td>1996</td>\n",
       "      <td>1997</td>\n",
       "      <td>from: humanist \\nsubject: humanist begin it 10...</td>\n",
       "    </tr>\n",
       "    <tr>\n",
       "      <th>10</th>\n",
       "      <td>1997-1998</td>\n",
       "      <td>From: Willard McCarty \\nSubject: mind no mind\\...</td>\n",
       "      <td>https://humanist.kdl.kcl.ac.uk/Archives/Conver...</td>\n",
       "      <td>1997/1998</td>\n",
       "      <td>1997</td>\n",
       "      <td>1998</td>\n",
       "      <td>from: willard mccarti \\nsubject: mind no mind\\...</td>\n",
       "    </tr>\n",
       "    <tr>\n",
       "      <th>11</th>\n",
       "      <td>1998-1999</td>\n",
       "      <td>From: Willard McCarty \\nSubject: one more than...</td>\n",
       "      <td>https://humanist.kdl.kcl.ac.uk/Archives/Conver...</td>\n",
       "      <td>1998/1999</td>\n",
       "      <td>1998</td>\n",
       "      <td>1999</td>\n",
       "      <td>from: willard mccarti \\nsubject: one more than...</td>\n",
       "    </tr>\n",
       "  </tbody>\n",
       "</table>\n",
       "</div>"
      ],
      "text/plain": [
       "        dates                                               text  \\\n",
       "0   1987-1988  From: MCCARTY@UTOREPAS\\nSubject: \\nDate: 12 Ma...   \n",
       "1   1988-1989  From: Sebastian Rahtz \\nSubject: C++ and Gnu o...   \n",
       "2   1989-1990  From: Willard McCarty \\nSubject: Happy Birthda...   \n",
       "3   1990-1991  From: Elaine Brennan & Allen Renear \\nSubject:...   \n",
       "4   1991-1992  From: Elaine Brennan & Allen Renear \\nSubject:...   \n",
       "5   1992-1993  From: Elaine M Brennan \\nSubject: Humanist's B...   \n",
       "6   1993-1994  From: 6500card%ucsbuxa@hub.ucsb.edu (Cheryl A....   \n",
       "7   1994-1995  From: Andrew Burday \\nSubject: Re: 7.0638 Qs: ...   \n",
       "8   1995-1996  From: \"Gregory Bloomquist\" \\nSubject: Round Ta...   \n",
       "9   1996-1997  From: Humanist \\nSubject: Humanist begins its ...   \n",
       "10  1997-1998  From: Willard McCarty \\nSubject: mind no mind\\...   \n",
       "11  1998-1999  From: Willard McCarty \\nSubject: one more than...   \n",
       "\n",
       "                                                  url cleaned_dates  \\\n",
       "0   https://humanist.kdl.kcl.ac.uk/Archives/Conver...     1987/1988   \n",
       "1   https://humanist.kdl.kcl.ac.uk/Archives/Conver...     1988/1989   \n",
       "2   https://humanist.kdl.kcl.ac.uk/Archives/Conver...     1989/1990   \n",
       "3   https://humanist.kdl.kcl.ac.uk/Archives/Conver...     1990/1991   \n",
       "4   https://humanist.kdl.kcl.ac.uk/Archives/Conver...     1991/1992   \n",
       "5   https://humanist.kdl.kcl.ac.uk/Archives/Conver...     1992/1993   \n",
       "6   https://humanist.kdl.kcl.ac.uk/Archives/Conver...     1993/1994   \n",
       "7   https://humanist.kdl.kcl.ac.uk/Archives/Conver...     1994/1995   \n",
       "8   https://humanist.kdl.kcl.ac.uk/Archives/Conver...     1995/1996   \n",
       "9   https://humanist.kdl.kcl.ac.uk/Archives/Conver...     1996/1997   \n",
       "10  https://humanist.kdl.kcl.ac.uk/Archives/Conver...     1997/1998   \n",
       "11  https://humanist.kdl.kcl.ac.uk/Archives/Conver...     1998/1999   \n",
       "\n",
       "   year_start year_end                                       stemmed_text  \n",
       "0        1987     1988  from: mccarty@utorepas\\nsubject: \\ndate: 12 ma...  \n",
       "1        1988     1989  from: sebastian rahtz \\nsubject: c++ and gnu o...  \n",
       "2        1989     1990  from: willard mccarti \\nsubject: happi birthda...  \n",
       "3        1990     1991  from: elain brennan & allen renear \\nsubject: ...  \n",
       "4        1991     1992  from: elain brennan & allen renear \\nsubject: ...  \n",
       "5        1992     1993  from: elain m brennan \\nsubject: humanist' bir...  \n",
       "6        1993     1994  from: 6500card%ucsbuxa@hub.ucsb.edu (cheryl a....  \n",
       "7        1994     1995  from: andrew burday \\nsubject: re: 7.0638 qs: ...  \n",
       "8        1995     1996  from: \"gregori bloomquist\" \\nsubject: round ta...  \n",
       "9        1996     1997  from: humanist \\nsubject: humanist begin it 10...  \n",
       "10       1997     1998  from: willard mccarti \\nsubject: mind no mind\\...  \n",
       "11       1998     1999  from: willard mccarti \\nsubject: one more than...  "
      ]
     },
     "execution_count": 7,
     "metadata": {},
     "output_type": "execute_result"
    }
   ],
   "source": [
    "humanist_vols_v1 = humanist_vols_copy[humanist_vols_copy[\"year_end\"].astype(int) < 2000]\n",
    "humanist_vols_v1"
   ]
  },
  {
   "cell_type": "code",
   "execution_count": 8,
   "id": "e38738bb",
   "metadata": {},
   "outputs": [
    {
     "data": {
      "text/html": [
       "<div>\n",
       "<style scoped>\n",
       "    .dataframe tbody tr th:only-of-type {\n",
       "        vertical-align: middle;\n",
       "    }\n",
       "\n",
       "    .dataframe tbody tr th {\n",
       "        vertical-align: top;\n",
       "    }\n",
       "\n",
       "    .dataframe thead th {\n",
       "        text-align: right;\n",
       "    }\n",
       "</style>\n",
       "<table border=\"1\" class=\"dataframe\">\n",
       "  <thead>\n",
       "    <tr style=\"text-align: right;\">\n",
       "      <th></th>\n",
       "      <th>dates</th>\n",
       "      <th>text</th>\n",
       "      <th>url</th>\n",
       "      <th>cleaned_dates</th>\n",
       "      <th>year_start</th>\n",
       "      <th>year_end</th>\n",
       "      <th>stemmed_text</th>\n",
       "    </tr>\n",
       "  </thead>\n",
       "  <tbody>\n",
       "    <tr>\n",
       "      <th>12</th>\n",
       "      <td>1999-2000</td>\n",
       "      <td>From: Willard McCarty \\nSubject: HAPPY now we ...</td>\n",
       "      <td>https://humanist.kdl.kcl.ac.uk/Archives/Conver...</td>\n",
       "      <td>1999/2000</td>\n",
       "      <td>1999</td>\n",
       "      <td>2000</td>\n",
       "      <td>from: willard mccarti \\nsubject: happi now we ...</td>\n",
       "    </tr>\n",
       "    <tr>\n",
       "      <th>13</th>\n",
       "      <td>2000-2001</td>\n",
       "      <td>From: Willard McCarty \\nSubject: HAPPY now we ...</td>\n",
       "      <td>https://humanist.kdl.kcl.ac.uk/Archives/Conver...</td>\n",
       "      <td>2000/2001</td>\n",
       "      <td>2000</td>\n",
       "      <td>2001</td>\n",
       "      <td>from: willard mccarti \\nsubject: happi now we ...</td>\n",
       "    </tr>\n",
       "    <tr>\n",
       "      <th>14</th>\n",
       "      <td>2001-2002</td>\n",
       "      <td>From: Willard McCarty \\nSubject: 14\\nDate: Mon...</td>\n",
       "      <td>https://humanist.kdl.kcl.ac.uk/Archives/Conver...</td>\n",
       "      <td>2001/2002</td>\n",
       "      <td>2001</td>\n",
       "      <td>2002</td>\n",
       "      <td>from: willard mccarti \\nsubject: 14\\ndate: mon...</td>\n",
       "    </tr>\n",
       "    <tr>\n",
       "      <th>15</th>\n",
       "      <td>2002-2003</td>\n",
       "      <td>From: NINCH-ANNOUNCE \\nSubject: New Project: \"...</td>\n",
       "      <td>https://humanist.kdl.kcl.ac.uk/Archives/Conver...</td>\n",
       "      <td>2002/2003</td>\n",
       "      <td>2002</td>\n",
       "      <td>2003</td>\n",
       "      <td>from: ninch-announc \\nsubject: new project: \"a...</td>\n",
       "    </tr>\n",
       "    <tr>\n",
       "      <th>16</th>\n",
       "      <td>2003-2004</td>\n",
       "      <td>From: Willard McCarty \\nSubject: Happy Sweet 1...</td>\n",
       "      <td>https://humanist.kdl.kcl.ac.uk/Archives/Conver...</td>\n",
       "      <td>2003/2004</td>\n",
       "      <td>2003</td>\n",
       "      <td>2004</td>\n",
       "      <td>from: willard mccarti \\nsubject: happi sweet 1...</td>\n",
       "    </tr>\n",
       "    <tr>\n",
       "      <th>17</th>\n",
       "      <td>2004-2005</td>\n",
       "      <td>From: Willard McCarty \\nSubject: happy 17th bi...</td>\n",
       "      <td>https://humanist.kdl.kcl.ac.uk/Archives/Conver...</td>\n",
       "      <td>2004/2005</td>\n",
       "      <td>2004</td>\n",
       "      <td>2005</td>\n",
       "      <td>from: willard mccarti \\nsubject: happi 17th bi...</td>\n",
       "    </tr>\n",
       "    <tr>\n",
       "      <th>18</th>\n",
       "      <td>2005-2006</td>\n",
       "      <td>From: Willard McCarty \\nSubject: Happy 18th bi...</td>\n",
       "      <td>https://humanist.kdl.kcl.ac.uk/Archives/Conver...</td>\n",
       "      <td>2005/2006</td>\n",
       "      <td>2005</td>\n",
       "      <td>2006</td>\n",
       "      <td>from: willard mccarti \\nsubject: happi 18th bi...</td>\n",
       "    </tr>\n",
       "    <tr>\n",
       "      <th>19</th>\n",
       "      <td>2006-2007</td>\n",
       "      <td>From: Willard McCarty \\nSubject: Happy 19th bi...</td>\n",
       "      <td>https://humanist.kdl.kcl.ac.uk/Archives/Conver...</td>\n",
       "      <td>2006/2007</td>\n",
       "      <td>2006</td>\n",
       "      <td>2007</td>\n",
       "      <td>from: willard mccarti \\nsubject: happi 19th bi...</td>\n",
       "    </tr>\n",
       "    <tr>\n",
       "      <th>20</th>\n",
       "      <td>2007-2008</td>\n",
       "      <td>From: Willard McCarty \\nSubject: Humanist's 20...</td>\n",
       "      <td>https://humanist.kdl.kcl.ac.uk/Archives/Conver...</td>\n",
       "      <td>2007/2008</td>\n",
       "      <td>2007</td>\n",
       "      <td>2008</td>\n",
       "      <td>from: willard mccarti \\nsubject: humanist' 20t...</td>\n",
       "    </tr>\n",
       "  </tbody>\n",
       "</table>\n",
       "</div>"
      ],
      "text/plain": [
       "        dates                                               text  \\\n",
       "12  1999-2000  From: Willard McCarty \\nSubject: HAPPY now we ...   \n",
       "13  2000-2001  From: Willard McCarty \\nSubject: HAPPY now we ...   \n",
       "14  2001-2002  From: Willard McCarty \\nSubject: 14\\nDate: Mon...   \n",
       "15  2002-2003  From: NINCH-ANNOUNCE \\nSubject: New Project: \"...   \n",
       "16  2003-2004  From: Willard McCarty \\nSubject: Happy Sweet 1...   \n",
       "17  2004-2005  From: Willard McCarty \\nSubject: happy 17th bi...   \n",
       "18  2005-2006  From: Willard McCarty \\nSubject: Happy 18th bi...   \n",
       "19  2006-2007  From: Willard McCarty \\nSubject: Happy 19th bi...   \n",
       "20  2007-2008  From: Willard McCarty \\nSubject: Humanist's 20...   \n",
       "\n",
       "                                                  url cleaned_dates  \\\n",
       "12  https://humanist.kdl.kcl.ac.uk/Archives/Conver...     1999/2000   \n",
       "13  https://humanist.kdl.kcl.ac.uk/Archives/Conver...     2000/2001   \n",
       "14  https://humanist.kdl.kcl.ac.uk/Archives/Conver...     2001/2002   \n",
       "15  https://humanist.kdl.kcl.ac.uk/Archives/Conver...     2002/2003   \n",
       "16  https://humanist.kdl.kcl.ac.uk/Archives/Conver...     2003/2004   \n",
       "17  https://humanist.kdl.kcl.ac.uk/Archives/Conver...     2004/2005   \n",
       "18  https://humanist.kdl.kcl.ac.uk/Archives/Conver...     2005/2006   \n",
       "19  https://humanist.kdl.kcl.ac.uk/Archives/Conver...     2006/2007   \n",
       "20  https://humanist.kdl.kcl.ac.uk/Archives/Conver...     2007/2008   \n",
       "\n",
       "   year_start year_end                                       stemmed_text  \n",
       "12       1999     2000  from: willard mccarti \\nsubject: happi now we ...  \n",
       "13       2000     2001  from: willard mccarti \\nsubject: happi now we ...  \n",
       "14       2001     2002  from: willard mccarti \\nsubject: 14\\ndate: mon...  \n",
       "15       2002     2003  from: ninch-announc \\nsubject: new project: \"a...  \n",
       "16       2003     2004  from: willard mccarti \\nsubject: happi sweet 1...  \n",
       "17       2004     2005  from: willard mccarti \\nsubject: happi 17th bi...  \n",
       "18       2005     2006  from: willard mccarti \\nsubject: happi 18th bi...  \n",
       "19       2006     2007  from: willard mccarti \\nsubject: happi 19th bi...  \n",
       "20       2007     2008  from: willard mccarti \\nsubject: humanist' 20t...  "
      ]
     },
     "execution_count": 8,
     "metadata": {},
     "output_type": "execute_result"
    }
   ],
   "source": [
    "humanist_vols_v2 = humanist_vols_copy[humanist_vols_copy[\"year_end\"].astype(int) >= 2000]\n",
    "humanist_vols_v2"
   ]
  },
  {
   "cell_type": "code",
   "execution_count": 9,
   "id": "8d2d186f",
   "metadata": {},
   "outputs": [],
   "source": [
    "from sklearn.feature_extraction.text import TfidfVectorizer, CountVectorizer\n",
    "\n",
    "#save our texts to a list\n",
    "documents_whole = humanist_vols_copy.text.tolist()\n",
    "documents_v1 = humanist_vols_v1.text.tolist()\n",
    "documents_v2 = humanist_vols_v2.text.tolist()\n"
   ]
  },
  {
   "cell_type": "code",
   "execution_count": 10,
   "id": "9568de51",
   "metadata": {},
   "outputs": [],
   "source": [
    "def make_tfidf(document):\n",
    "    vectorizer = TfidfVectorizer(max_df=0.9, min_df=2)\n",
    "    transformed_documents = vectorizer.fit_transform(document)\n",
    "\n",
    "    # Now get the top features for each document\n",
    "    transformed_documents_as_array = transformed_documents.toarray()\n",
    "\n",
    "    dates = humanist_vols.dates.tolist()\n",
    "    tfidf_results = []\n",
    "    for counter, doc in enumerate(transformed_documents_as_array):\n",
    "        # construct a dataframe\n",
    "        tf_idf_tuples = list(zip(vectorizer.get_feature_names(), doc))\n",
    "        one_doc_as_df = pd.DataFrame.from_records(tf_idf_tuples, columns=['term', 'score']).sort_values(by='score', ascending=False).reset_index(drop=True)\n",
    "        one_doc_as_df['dates'] = dates[counter]\n",
    "        tfidf_results.append(one_doc_as_df)\n",
    "    \n",
    "    tfidf_df = pd.concat(tfidf_results)\n",
    "    tfidf_df = tfidf_df.sort_values(by=['score'], ascending=False)\n",
    "    return tfidf_df"
   ]
  },
  {
   "cell_type": "code",
   "execution_count": 11,
   "id": "6915b5ca",
   "metadata": {},
   "outputs": [
    {
     "name": "stderr",
     "output_type": "stream",
     "text": [
      "/Users/jerry/is310-venv/lib/python3.7/site-packages/sklearn/utils/deprecation.py:87: FutureWarning: Function get_feature_names is deprecated; get_feature_names is deprecated in 1.0 and will be removed in 1.2. Please use get_feature_names_out instead.\n",
      "  warnings.warn(msg, category=FutureWarning)\n"
     ]
    }
   ],
   "source": [
    "tfidf_whole = make_tfidf(documents_whole)\n",
    "tfidf_v1 = make_tfidf(documents_v1)\n",
    "tfidf_v2 = make_tfidf(documents_v2)\n"
   ]
  },
  {
   "cell_type": "code",
   "execution_count": 12,
   "id": "32e3b975",
   "metadata": {},
   "outputs": [
    {
     "name": "stdout",
     "output_type": "stream",
     "text": [
      "['http' 'utorepas' 'bitnet' 'www' '2007' '1997' '2006' '2004' '1996'\n",
      " '2005' '2002' '2003' 'ninch' 'gopher']\n"
     ]
    }
   ],
   "source": [
    "top_10_unique_whole = tfidf_whole.term.unique()[0:10]\n",
    "print(top_10_unique_whole)"
   ]
  },
  {
   "cell_type": "code",
   "execution_count": 13,
   "id": "f6ed84c4",
   "metadata": {},
   "outputs": [
    {
     "name": "stdout",
     "output_type": "stream",
     "text": [
      "['1994' 'utorepas' 'http' 'www' '3d' '1997' '1996' 'html' '1998' 'saddam'\n",
      " 'uottawa' 'astra' 'gopher' 'vax' '1999' 'hussein' 'jul' 'na' 'penndrls'\n",
      " 'forks' 'kessler' 'qs' 'unicode' 'iraq' 'rahtz' 'acadvm1' '441495']\n"
     ]
    }
   ],
   "source": [
    "top_10_unique_v1 = tfidf_v1.term.unique()[0:10]\n",
    "print(top_10_unique_v1)"
   ]
  },
  {
   "cell_type": "code",
   "execution_count": 14,
   "id": "d254ce34",
   "metadata": {},
   "outputs": [
    {
     "name": "stdout",
     "output_type": "stream",
     "text": [
      "['2004' '2007' 'ninch' '2006' '2005' 'amico' '2008' 'ichim99' '1007' 'doi'\n",
      " 'tocs' 'hforums' 'elra' '0558' 'wmccarty' 'fqs' 'cni' 'ubiquity' 'gants'\n",
      " 'elda' 'amish' 'wikipedia' 'ilex' '4020' 'osher' 'infinitum' '3dx'\n",
      " 'arundel' 'duisburg']\n"
     ]
    }
   ],
   "source": [
    "top_10_unique_v2 = tfidf_v2.term.unique()[0:10]\n",
    "print(top_10_unique_v2)"
   ]
  },
  {
   "cell_type": "code",
   "execution_count": 15,
   "id": "979723a2",
   "metadata": {},
   "outputs": [],
   "source": [
    "def tfidf_frequency_graph(dataset, term):\n",
    "    subset = dataset[dataset[\"term\"]==term]\n",
    "    subset.sort_values(by=\"dates\",)\n",
    "    return subset.plot(x='dates', y='score', kind='line')"
   ]
  },
  {
   "cell_type": "code",
   "execution_count": 16,
   "id": "e28d8543",
   "metadata": {},
   "outputs": [
    {
     "data": {
      "text/plain": [
       "<AxesSubplot:xlabel='dates'>"
      ]
     },
     "execution_count": 16,
     "metadata": {},
     "output_type": "execute_result"
    },
    {
     "data": {
      "image/png": "[encoded data removed]",
      "text/plain": [
       "<Figure size 432x288 with 1 Axes>"
      ]
     },
     "metadata": {
      "needs_background": "light"
     },
     "output_type": "display_data"
    }
   ],
   "source": [
    "tfidf_frequency_graph(tfidf_whole, \"http\")"
   ]
  },
  {
   "cell_type": "code",
   "execution_count": null,
   "id": "a28cd058",
   "metadata": {},
   "outputs": [],
   "source": []
  }
 ],
 "metadata": {
  "kernelspec": {
   "display_name": "is310-venv",
   "language": "python",
   "name": "is310-venv"
  },
  "language_info": {
   "codemirror_mode": {
    "name": "ipython",
    "version": 3
   },
   "file_extension": ".py",
   "mimetype": "text/x-python",
   "name": "python",
   "nbconvert_exporter": "python",
   "pygments_lexer": "ipython3",
   "version": "3.7.4"
  }
 },
 "nbformat": 4,
 "nbformat_minor": 5
}
