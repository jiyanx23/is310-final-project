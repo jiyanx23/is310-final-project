{
    "cells": [
        {
            "cell_type": "code",
            "execution_count": 24,
            "source": [
                "import pandas as pd\n",
                "\n",
                "characterList = pd.read_csv(\"https://raw.githubusercontent.com/matthewfdaniels/scripts/graphs/character_list5.csv\", encoding = \"ISO-8859-1\")\n",
                "characterList.head()\n",
                "# character list has all the script for different characters. It includes word count for the script, character gender and age\n",
                "# characterList.isnull().values.any()\n",
                "characterList.isnull().sum()"
            ],
            "outputs": [
                {
                    "output_type": "execute_result",
                    "data": {
                        "text/plain": [
                            "script_id                 0\n",
                            "imdb_character_name       2\n",
                            "words                     0\n",
                            "gender                    0\n",
                            "age                    4785\n",
                            "dtype: int64"
                        ]
                    },
                    "metadata": {},
                    "execution_count": 24
                }
            ],
            "metadata": {}
        },
        {
            "cell_type": "code",
            "execution_count": 25,
            "source": [
                "meta_data = pd.read_csv(\"https://raw.githubusercontent.com/matthewfdaniels/scripts/graphs/meta_data7.csv\", encoding = \"ISO-8859-1\")\n",
                "meta_data.head()\n",
                "# meta data has title year about the movie and its imdb id, script id\n",
                "meta_data.isnull().sum()"
            ],
            "outputs": [
                {
                    "output_type": "execute_result",
                    "data": {
                        "text/plain": [
                            "script_id       0\n",
                            "imdb_id         0\n",
                            "title           0\n",
                            "year            0\n",
                            "gross         338\n",
                            "lines_data      0\n",
                            "dtype: int64"
                        ]
                    },
                    "metadata": {},
                    "execution_count": 25
                }
            ],
            "metadata": {}
        },
        {
            "cell_type": "code",
            "execution_count": 38,
            "source": [
                "movie_year_and_words = pd.merge(characterList, meta_data, on = 'script_id')\n",
                "movie_year_and_words.sort_values(by= ['words','year'], ascending=[True, True], inplace = True)\n",
                "# movie_year_and_words.head()\n",
                "movie_year_and_words_filtered = movie_year_and_words[['words','year']].copy()\n",
                "movie_year_and_words_filtered.groupby('year').sum()\n",
                "# movie_year_and_words_filtered.head()\n",
                "# It does seems like there are more words in diologues in recent years comparing to 1900s."
            ],
            "outputs": [
                {
                    "output_type": "execute_result",
                    "data": {
                        "text/plain": [
                            "       words\n",
                            "year        \n",
                            "1929    8572\n",
                            "1931   11601\n",
                            "1932   67534\n",
                            "1933   21125\n",
                            "1934   24646\n",
                            "...      ...\n",
                            "2011  944803\n",
                            "2012  654881\n",
                            "2013  637486\n",
                            "2014  707308\n",
                            "2015  510435\n",
                            "\n",
                            "[81 rows x 1 columns]"
                        ],
                        "text/html": [
                            "<div>\n",
                            "<style scoped>\n",
                            "    .dataframe tbody tr th:only-of-type {\n",
                            "        vertical-align: middle;\n",
                            "    }\n",
                            "\n",
                            "    .dataframe tbody tr th {\n",
                            "        vertical-align: top;\n",
                            "    }\n",
                            "\n",
                            "    .dataframe thead th {\n",
                            "        text-align: right;\n",
                            "    }\n",
                            "</style>\n",
                            "<table border=\"1\" class=\"dataframe\">\n",
                            "  <thead>\n",
                            "    <tr style=\"text-align: right;\">\n",
                            "      <th></th>\n",
                            "      <th>words</th>\n",
                            "    </tr>\n",
                            "    <tr>\n",
                            "      <th>year</th>\n",
                            "      <th></th>\n",
                            "    </tr>\n",
                            "  </thead>\n",
                            "  <tbody>\n",
                            "    <tr>\n",
                            "      <th>1929</th>\n",
                            "      <td>8572</td>\n",
                            "    </tr>\n",
                            "    <tr>\n",
                            "      <th>1931</th>\n",
                            "      <td>11601</td>\n",
                            "    </tr>\n",
                            "    <tr>\n",
                            "      <th>1932</th>\n",
                            "      <td>67534</td>\n",
                            "    </tr>\n",
                            "    <tr>\n",
                            "      <th>1933</th>\n",
                            "      <td>21125</td>\n",
                            "    </tr>\n",
                            "    <tr>\n",
                            "      <th>1934</th>\n",
                            "      <td>24646</td>\n",
                            "    </tr>\n",
                            "    <tr>\n",
                            "      <th>...</th>\n",
                            "      <td>...</td>\n",
                            "    </tr>\n",
                            "    <tr>\n",
                            "      <th>2011</th>\n",
                            "      <td>944803</td>\n",
                            "    </tr>\n",
                            "    <tr>\n",
                            "      <th>2012</th>\n",
                            "      <td>654881</td>\n",
                            "    </tr>\n",
                            "    <tr>\n",
                            "      <th>2013</th>\n",
                            "      <td>637486</td>\n",
                            "    </tr>\n",
                            "    <tr>\n",
                            "      <th>2014</th>\n",
                            "      <td>707308</td>\n",
                            "    </tr>\n",
                            "    <tr>\n",
                            "      <th>2015</th>\n",
                            "      <td>510435</td>\n",
                            "    </tr>\n",
                            "  </tbody>\n",
                            "</table>\n",
                            "<p>81 rows × 1 columns</p>\n",
                            "</div>"
                        ]
                    },
                    "metadata": {},
                    "execution_count": 38
                }
            ],
            "metadata": {}
        },
        {
            "cell_type": "code",
            "execution_count": 52,
            "source": [
                "movie_year_words_gender = pd.merge(characterList, meta_data, on = 'script_id')\n",
                "# movie_year_and_words.head()\n",
                "movie_year_words_gender_filtered = movie_year_and_words[['words','year','gender']].copy()\n",
                "movie_year_words_gender_filtered_grouped =  movie_year_words_gender_filtered.groupby(by=['gender','year'])"
            ],
            "outputs": [],
            "metadata": {}
        },
        {
            "cell_type": "code",
            "execution_count": 43,
            "source": [
                "movie_gross_and_dialogue = pd.merge(characterList, meta_data, on = 'script_id')\n",
                "movie_gross_and_dialogue_filtered = movie_gross_and_dialogue[['words','gross']]\n",
                "movie_gross_and_dialogue_filtered.sort_values(by='words', inplace=True)\n",
                "# movie_gross_and_dialogue_filtered.head()\n",
                "movie_gross_and_dialogue_filtered.groupby(by='words').mean()\n",
                "# It doesn't seem like the gross value has direct relationships with the amount of words in the diologue"
            ],
            "outputs": [
                {
                    "output_type": "stream",
                    "name": "stderr",
                    "text": [
                        "/Users/jerry/.virtualenvs/is310-venv/lib/python3.7/site-packages/pandas/util/_decorators.py:311: SettingWithCopyWarning: \n",
                        "A value is trying to be set on a copy of a slice from a DataFrame\n",
                        "\n",
                        "See the caveats in the documentation: https://pandas.pydata.org/pandas-docs/stable/user_guide/indexing.html#returning-a-view-versus-a-copy\n",
                        "  return func(*args, **kwargs)\n"
                    ]
                },
                {
                    "output_type": "execute_result",
                    "data": {
                        "text/plain": [
                            "            gross\n",
                            "words            \n",
                            "101    120.309091\n",
                            "102    105.750000\n",
                            "103    149.822581\n",
                            "104    118.182927\n",
                            "105     89.868852\n",
                            "...           ...\n",
                            "19576   84.000000\n",
                            "19892   27.000000\n",
                            "24376   44.000000\n",
                            "26798   84.000000\n",
                            "28102  145.000000\n",
                            "\n",
                            "[3720 rows x 1 columns]"
                        ],
                        "text/html": [
                            "<div>\n",
                            "<style scoped>\n",
                            "    .dataframe tbody tr th:only-of-type {\n",
                            "        vertical-align: middle;\n",
                            "    }\n",
                            "\n",
                            "    .dataframe tbody tr th {\n",
                            "        vertical-align: top;\n",
                            "    }\n",
                            "\n",
                            "    .dataframe thead th {\n",
                            "        text-align: right;\n",
                            "    }\n",
                            "</style>\n",
                            "<table border=\"1\" class=\"dataframe\">\n",
                            "  <thead>\n",
                            "    <tr style=\"text-align: right;\">\n",
                            "      <th></th>\n",
                            "      <th>gross</th>\n",
                            "    </tr>\n",
                            "    <tr>\n",
                            "      <th>words</th>\n",
                            "      <th></th>\n",
                            "    </tr>\n",
                            "  </thead>\n",
                            "  <tbody>\n",
                            "    <tr>\n",
                            "      <th>101</th>\n",
                            "      <td>120.309091</td>\n",
                            "    </tr>\n",
                            "    <tr>\n",
                            "      <th>102</th>\n",
                            "      <td>105.750000</td>\n",
                            "    </tr>\n",
                            "    <tr>\n",
                            "      <th>103</th>\n",
                            "      <td>149.822581</td>\n",
                            "    </tr>\n",
                            "    <tr>\n",
                            "      <th>104</th>\n",
                            "      <td>118.182927</td>\n",
                            "    </tr>\n",
                            "    <tr>\n",
                            "      <th>105</th>\n",
                            "      <td>89.868852</td>\n",
                            "    </tr>\n",
                            "    <tr>\n",
                            "      <th>...</th>\n",
                            "      <td>...</td>\n",
                            "    </tr>\n",
                            "    <tr>\n",
                            "      <th>19576</th>\n",
                            "      <td>84.000000</td>\n",
                            "    </tr>\n",
                            "    <tr>\n",
                            "      <th>19892</th>\n",
                            "      <td>27.000000</td>\n",
                            "    </tr>\n",
                            "    <tr>\n",
                            "      <th>24376</th>\n",
                            "      <td>44.000000</td>\n",
                            "    </tr>\n",
                            "    <tr>\n",
                            "      <th>26798</th>\n",
                            "      <td>84.000000</td>\n",
                            "    </tr>\n",
                            "    <tr>\n",
                            "      <th>28102</th>\n",
                            "      <td>145.000000</td>\n",
                            "    </tr>\n",
                            "  </tbody>\n",
                            "</table>\n",
                            "<p>3720 rows × 1 columns</p>\n",
                            "</div>"
                        ]
                    },
                    "metadata": {},
                    "execution_count": 43
                }
            ],
            "metadata": {}
        },
        {
            "cell_type": "code",
            "execution_count": 26,
            "source": [
                "characterMapping = pd.read_csv(\"https://raw.githubusercontent.com/matthewfdaniels/scripts/graphs/character_mapping.csv\", encoding = \"ISO-8859-1\")\n",
                "characterMapping.head()\n",
                "# character mapping has maybe maching from script character to imdb character\n",
                "characterMapping.isnull().sum()"
            ],
            "outputs": [
                {
                    "output_type": "execute_result",
                    "data": {
                        "text/plain": [
                            "script_id                                  0\n",
                            "imdb_id                                    0\n",
                            "character_from_script                     53\n",
                            "closest_character_name_from_imdb_match    64\n",
                            "closest_imdb_character_id                  0\n",
                            "dtype: int64"
                        ]
                    },
                    "metadata": {},
                    "execution_count": 26
                }
            ],
            "metadata": {}
        }
    ],
    "metadata": {
        "orig_nbformat": 4,
        "language_info": {
            "name": "python",
            "version": "3.7.4",
            "mimetype": "text/x-python",
            "codemirror_mode": {
                "name": "ipython",
                "version": 3
            },
            "pygments_lexer": "ipython3",
            "nbconvert_exporter": "python",
            "file_extension": ".py"
        },
        "kernelspec": {
            "name": "python3",
            "display_name": "Python 3.7.4 64-bit ('is310-venv': virtualenv)"
        },
        "interpreter": {
            "hash": "73f5c197125b44145db2a0ffc4a9623e1af66f0f8e0a607dfed48c4938b83929"
        }
    },
    "nbformat": 4,
    "nbformat_minor": 2
}